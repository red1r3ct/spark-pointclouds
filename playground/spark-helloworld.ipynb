{
 "cells": [
  {
   "cell_type": "code",
   "execution_count": null,
   "metadata": {},
   "outputs": [],
   "source": [
    "!pip install pyspark==2.4.7 numpy pandas pyspark3d\n",
    "\n",
    "!sudo apt-get install -y apt-transport-https ca-certificates gnupg\n",
    "!echo \"deb https://packages.cloud.google.com/apt cloud-sdk main\" | sudo tee -a /etc/apt/sources.list.d/google-cloud-sdk.list\n",
    "\n",
    "!curl https://packages.cloud.google.com/apt/doc/apt-key.gpg | sudo apt-key --keyring /usr/share/keyrings/cloud.google.gpg add -\n",
    "!curl https://packages.cloud.google.com/apt/doc/apt-key.gpg | sudo apt-key add -\n",
    "\n",
    "!sudo apt update\n",
    "!sudo apt install -y openjdk-8-jdk google-cloud-sdk kubectl"
   ]
  },
  {
   "cell_type": "code",
   "execution_count": null,
   "metadata": {},
   "outputs": [],
   "source": [
    "# You should have valid kubeconfig for spark k8s to work\n",
    "!kubectl cluster-info"
   ]
  },
  {
   "cell_type": "code",
   "execution_count": 5,
   "metadata": {},
   "outputs": [],
   "source": [
    "import os\n",
    "os.environ['PYSPARK_PYTHON'] = 'python3'\n",
    "\n",
    "import pyspark\n",
    "import pandas as pd\n",
    "import numpy as np\n",
    "\n",
    "from pyspark.sql import SparkSession\n",
    "from pyspark3d.repartitioning import prePartition\n",
    "from pyspark3d.repartitioning import repartitionByCol"
   ]
  },
  {
   "cell_type": "code",
   "execution_count": 6,
   "metadata": {},
   "outputs": [],
   "source": [
    "k8s_host = os.environ['K8S_MASTER_IP']\n",
    "pod_ip = !hostname -i\n",
    "pod_ip = pod_ip[0]\n",
    "driver_port = 23840\n",
    "# Image that you should build from compiled spark project\n",
    "image_name = 'sarex/pyspark-k8s:latest'\n"
   ]
  },
  {
   "cell_type": "code",
   "execution_count": 7,
   "metadata": {},
   "outputs": [],
   "source": [
    "conf = pyspark.SparkConf()\n",
    "conf.setMaster(f'k8s://{k8s_host}')\n",
    "conf.setAppName('helloworld')\n",
    "\n",
    "conf.set('spark.app.name', 'helloworld')\n",
    "conf.set('spark.kubernetes.namespace', 'spark')\n",
    "conf.set('spark.kubernetes.container.image', image_name)\n",
    "conf.set('spark.kubernetes.executor.container.image', image_name)\n",
    "conf.set('spark.kubernetes.container.image.pullSecrets', 'dockerhub')\n",
    "conf.set('spark.executor.instances', '2')\n",
    "conf.set('spark.kubernetes.authenticate.serviceAccountName', 'spark')\n",
    "conf.set('spark.driver.host', pod_ip)\n",
    "conf.set('spark.driver.port', driver_port)\n",
    "conf.set('spark.kubernetes.submission.connectionTimeout', '100000')\n",
    "conf.set('spark.kubernetes.submission.requestTimeout', '100000')\n",
    "conf.set('spark.kubernetes.driver.connectionTimeout', '100000')\n",
    "conf.set('spark.kubernetes.driver.requestTimeout', '100000')\n",
    "\n",
    "conf.set('spark.jars.packages', 'com.github.astrolabsoftware:spark3d_2.11:0.3.1,saurfang:spark-knn:0.3.0')\n",
    "conf.set('spark.jars', './jhealpix.jar,./spark3D-assembly-0.3.1.jar')\n",
    "\n",
    "context = pyspark.SparkContext(master=f'k8s://{k8s_host}', conf=conf)\n"
   ]
  },
  {
   "cell_type": "code",
   "execution_count": 8,
   "metadata": {},
   "outputs": [],
   "source": [
    "spark = SparkSession(context)\n"
   ]
  },
  {
   "cell_type": "code",
   "execution_count": 9,
   "metadata": {},
   "outputs": [],
   "source": [
    "%%time\n",
    "\n",
    "pdf = pd.DataFrame(np.random.rand(1000000, 3))\n",
    "df = spark.createDataFrame(pdf)\n"
   ]
  },
  {
   "cell_type": "code",
   "execution_count": 10,
   "metadata": {},
   "outputs": [
    {
     "data": {
      "text/html": [
       "<div>\n",
       "<style scoped>\n",
       "    .dataframe tbody tr th:only-of-type {\n",
       "        vertical-align: middle;\n",
       "    }\n",
       "\n",
       "    .dataframe tbody tr th {\n",
       "        vertical-align: top;\n",
       "    }\n",
       "\n",
       "    .dataframe thead th {\n",
       "        text-align: right;\n",
       "    }\n",
       "</style>\n",
       "<table border=\"1\" class=\"dataframe\">\n",
       "  <thead>\n",
       "    <tr style=\"text-align: right;\">\n",
       "      <th></th>\n",
       "      <th>0</th>\n",
       "      <th>1</th>\n",
       "      <th>2</th>\n",
       "    </tr>\n",
       "  </thead>\n",
       "  <tbody>\n",
       "    <tr>\n",
       "      <th>0</th>\n",
       "      <td>0.748567</td>\n",
       "      <td>0.746342</td>\n",
       "      <td>0.243716</td>\n",
       "    </tr>\n",
       "    <tr>\n",
       "      <th>1</th>\n",
       "      <td>0.927885</td>\n",
       "      <td>0.062615</td>\n",
       "      <td>0.301911</td>\n",
       "    </tr>\n",
       "    <tr>\n",
       "      <th>2</th>\n",
       "      <td>0.769165</td>\n",
       "      <td>0.656587</td>\n",
       "      <td>0.186006</td>\n",
       "    </tr>\n",
       "    <tr>\n",
       "      <th>3</th>\n",
       "      <td>0.287022</td>\n",
       "      <td>0.795529</td>\n",
       "      <td>0.514530</td>\n",
       "    </tr>\n",
       "    <tr>\n",
       "      <th>4</th>\n",
       "      <td>0.449360</td>\n",
       "      <td>0.371976</td>\n",
       "      <td>0.865534</td>\n",
       "    </tr>\n",
       "  </tbody>\n",
       "</table>\n",
       "</div>"
      ],
      "text/plain": [
       "          0         1         2\n",
       "0  0.748567  0.746342  0.243716\n",
       "1  0.927885  0.062615  0.301911\n",
       "2  0.769165  0.656587  0.186006\n",
       "3  0.287022  0.795529  0.514530\n",
       "4  0.449360  0.371976  0.865534"
      ]
     },
     "execution_count": 10,
     "metadata": {},
     "output_type": "execute_result"
    }
   ],
   "source": [
    "%%time\n",
    "\n",
    "result_pdf = df.select(\"*\").toPandas()\n",
    "result_pdf.head()"
   ]
  },
  {
   "cell_type": "code",
   "execution_count": null,
   "metadata": {},
   "outputs": [],
   "source": [
    "n_parts = 50\n",
    "options = {\n",
    "    \"geometry\": \"points\",\n",
    "    \"colnames\": \"0,1,2\",\n",
    "    \"coordSys\": \"cartesian\",\n",
    "    \"gridtype\": \"octree\",\n",
    "}\n",
    "points_prepart = prePartition(df, options, numPartitions=n_parts)\n"
   ]
  },
  {
   "cell_type": "code",
   "execution_count": null,
   "metadata": {},
   "outputs": [],
   "source": [
    "df_repart = repartitionByCol(points_prepart, \"partition_id\", preLabeled=True, numPartitions=n_parts)\n",
    "\n",
    "df_repart.show()\n"
   ]
  },
  {
   "cell_type": "code",
   "execution_count": null,
   "metadata": {},
   "outputs": [],
   "source": []
  }
 ],
 "metadata": {
  "kernelspec": {
   "display_name": "Python 3",
   "language": "python",
   "name": "python3"
  },
  "language_info": {
   "codemirror_mode": {
    "name": "ipython",
    "version": 3
   },
   "file_extension": ".py",
   "mimetype": "text/x-python",
   "name": "python",
   "nbconvert_exporter": "python",
   "pygments_lexer": "ipython3",
   "version": "3.7.6"
  }
 },
 "nbformat": 4,
 "nbformat_minor": 4
}